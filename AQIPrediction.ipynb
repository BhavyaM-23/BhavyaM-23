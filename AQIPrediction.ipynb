{
  "nbformat": 4,
  "nbformat_minor": 0,
  "metadata": {
    "colab": {
      "name": "Untitled4.ipynb",
      "private_outputs": true,
      "provenance": [],
      "authorship_tag": "ABX9TyO8IAxVfLxxCWD7uuq35QGI",
      "include_colab_link": true
    },
    "kernelspec": {
      "name": "python3",
      "display_name": "Python 3"
    },
    "language_info": {
      "name": "python"
    },
    "accelerator": "GPU"
  },
  "cells": [
    {
      "cell_type": "markdown",
      "metadata": {
        "id": "view-in-github",
        "colab_type": "text"
      },
      "source": [
        "<a href=\"https://colab.research.google.com/github/BhavyaM-23/BhavyaM-23/blob/main/AQIPrediction.ipynb\" target=\"_parent\"><img src=\"https://colab.research.google.com/assets/colab-badge.svg\" alt=\"Open In Colab\"/></a>"
      ]
    },
    {
      "cell_type": "code",
      "execution_count": null,
      "metadata": {
        "id": "S-R9dCTEO-s1"
      },
      "outputs": [],
      "source": [
        "!git clone https://github.com/BhavyaM-23/sky"
      ]
    },
    {
      "cell_type": "code",
      "source": [
        "!pip install ktrain"
      ],
      "metadata": {
        "id": "PQj-m8PzPTDZ"
      },
      "execution_count": null,
      "outputs": []
    },
    {
      "cell_type": "code",
      "source": [
        "%matplotlib inline\n",
        "import os\n",
        "import ktrain\n",
        "from ktrain import vision as vis"
      ],
      "metadata": {
        "id": "9ReyaTUQPX9W"
      },
      "execution_count": null,
      "outputs": []
    },
    {
      "cell_type": "code",
      "source": [
        "import re\n",
        "pattern=r'([^/]+)_\\d+.jpg$'\n",
        "p=re.compile(pattern)\n",
        "r=p.search('33_20211120131613.jpg')\n",
        "print(r.group(1))"
      ],
      "metadata": {
        "id": "CJzmJgcORKJR"
      },
      "execution_count": null,
      "outputs": []
    },
    {
      "cell_type": "code",
      "source": [
        "DATADIR='/content/sky'"
      ],
      "metadata": {
        "id": "3M_SzRWkS1eJ"
      },
      "execution_count": null,
      "outputs": []
    },
    {
      "cell_type": "code",
      "source": [
        "(train_data,test_data,preproc)=vis.images_from_fname(DATADIR,pattern=pattern,is_regression=True,random_state=42)"
      ],
      "metadata": {
        "id": "Qd6ea2fwS9n7"
      },
      "execution_count": null,
      "outputs": []
    },
    {
      "cell_type": "code",
      "source": [
        "vis.print_image_regression_models()"
      ],
      "metadata": {
        "id": "NqUBlmi5TwJY"
      },
      "execution_count": null,
      "outputs": []
    },
    {
      "cell_type": "code",
      "source": [
        "model=vis.image_regression_model('pretrained_mobilenet',train_data=train_data,val_data=test_data)"
      ],
      "metadata": {
        "id": "_FbeDT8eT3rE"
      },
      "execution_count": null,
      "outputs": []
    },
    {
      "cell_type": "code",
      "source": [
        "learner=ktrain.get_learner(model=model,train_data=train_data,val_data=test_data,batch_size=64)"
      ],
      "metadata": {
        "id": "zcMNmk5SUbF8"
      },
      "execution_count": null,
      "outputs": []
    },
    {
      "cell_type": "code",
      "source": [
        "#learning rate=1e-4"
      ],
      "metadata": {
        "id": "6hpT7w9HU8-7"
      },
      "execution_count": null,
      "outputs": []
    },
    {
      "cell_type": "code",
      "source": [
        "learner.fit_onecycle(1e-4,5)"
      ],
      "metadata": {
        "id": "1rT3Jn-QVDs8"
      },
      "execution_count": null,
      "outputs": []
    },
    {
      "cell_type": "code",
      "source": [
        "learner.freeze(15)\n",
        "learner.fit_onecycle(1e-4,3)"
      ],
      "metadata": {
        "id": "DERcCWeLVkMR"
      },
      "execution_count": null,
      "outputs": []
    },
    {
      "cell_type": "code",
      "source": [
        "learner.model.summary()"
      ],
      "metadata": {
        "id": "_Kq9uJ79x-jj"
      },
      "execution_count": null,
      "outputs": []
    },
    {
      "cell_type": "code",
      "source": [
        "predictor=ktrain.get_predictor(learner.model,preproc)"
      ],
      "metadata": {
        "id": "gzYcRVC6Y388"
      },
      "execution_count": null,
      "outputs": []
    },
    {
      "cell_type": "code",
      "source": [
        "test_data.filenames"
      ],
      "metadata": {
        "id": "jTAmznflZKUg"
      },
      "execution_count": null,
      "outputs": []
    },
    {
      "cell_type": "code",
      "source": [
        "def show_prediction(fname):\n",
        "  fname=DATADIR+'/'+fname\n",
        "  pred=round(predictor.predict_filename(fname)[0])\n",
        "  actual=int(p.search(fname).group(1))\n",
        "  vis.show_image(fname)\n",
        "  print(\"Predicted AQI: %s | Actual AQI: %s\"%(pred,actual))"
      ],
      "metadata": {
        "id": "iCbYHEARZUlW"
      },
      "execution_count": null,
      "outputs": []
    },
    {
      "cell_type": "code",
      "source": [
        "show_prediction('33_2007002478.jpg')"
      ],
      "metadata": {
        "id": "OjvC9t40ahMQ"
      },
      "execution_count": null,
      "outputs": []
    },
    {
      "cell_type": "code",
      "source": [
        "from tensorflow import keras\n",
        "\n",
        "kf=\"m1.h5\"\n",
        "keras.models.save_model(learner.model,kf)"
      ],
      "metadata": {
        "id": "4FIssZmw05Fk"
      },
      "execution_count": null,
      "outputs": []
    },
    {
      "cell_type": "code",
      "source": [
        "import tensorflow as tf\n",
        "conv=tf.lite.TFLiteConverter.from_keras_model(learner.model)\n",
        "tf=conv.convert()\n",
        "open(\"aqi.tflite\",\"wb\").write(tf)"
      ],
      "metadata": {
        "id": "FF_pLlZM1jH7"
      },
      "execution_count": null,
      "outputs": []
    },
    {
      "cell_type": "code",
      "source": [
        "print(learner.model.predict())"
      ],
      "metadata": {
        "id": "fMP4wrN9EMYK"
      },
      "execution_count": null,
      "outputs": []
    }
  ]
}